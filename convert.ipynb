{
 "cells": [
  {
   "cell_type": "code",
   "execution_count": null,
   "metadata": {},
   "outputs": [],
   "source": [
    "!pip install pymupdf\n",
    "!pip install pandas"
   ]
  },
  {
   "cell_type": "code",
   "execution_count": null,
   "metadata": {},
   "outputs": [],
   "source": [
    "import fitz  # PyMuPDF\n",
    "import pandas as pd\n",
    "from google.colab import files\n",
    "\n",
    "def extract_text_from_pdf_with_label(pdf_path, label):\n",
    "    # Open the PDF file\n",
    "    pdf_document = fitz.open(pdf_path)\n",
    "\n",
    "    # Initialize a list to store text for each page along with labels\n",
    "    page_texts = []\n",
    "\n",
    "    # Iterate through each page\n",
    "    for page_number in range(len(pdf_document)):\n",
    "        # Get the page\n",
    "        page = pdf_document.load_page(page_number)\n",
    "\n",
    "        # Extract text from the page\n",
    "        text = page.get_text()\n",
    "\n",
    "        # Append the text along with the label to the list\n",
    "        page_texts.append({'Page': page_number + 1, 'Text': text, 'Label': label})\n",
    "\n",
    "    return page_texts\n",
    "\n",
    "# List of PDFs with their corresponding labels\n",
    "pdfs_with_labels = [\n",
    "    {\"path\": \"path1\", \"label\": \"1\"},\n",
    "    {\"path\": \"path2\", \"label\": \"0\"}\n",
    "]\n",
    "\n",
    "# Extract text and labels for all PDFs in the list\n",
    "all_data = []\n",
    "for pdf in pdfs_with_labels:\n",
    "    pdf_data = extract_text_from_pdf_with_label(pdf[\"path\"], pdf[\"label\"])\n",
    "    all_data.extend(pdf_data)\n",
    "\n",
    "# Create a DataFrame from the combined data\n",
    "df = pd.DataFrame(all_data)\n",
    "\n",
    "# Save the DataFrame to CSV with escape character set\n",
    "df.to_csv(\"/content/dataset.csv\", index=False, escapechar='\\\\')\n",
    "\n",
    "# Provide a download link\n",
    "files.download(\"/content/dataset.csv\")\n",
    "\n",
    "print(\"Dataset creation completed, with labels added.\")\n"
   ]
  }
 ],
 "metadata": {
  "language_info": {
   "name": "python"
  }
 },
 "nbformat": 4,
 "nbformat_minor": 2
}
